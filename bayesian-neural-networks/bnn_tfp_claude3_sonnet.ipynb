{
  "nbformat": 4,
  "nbformat_minor": 0,
  "metadata": {
    "colab": {
      "provenance": [],
      "gpuType": "T4"
    },
    "kernelspec": {
      "name": "python3",
      "display_name": "Python 3"
    },
    "language_info": {
      "name": "python"
    },
    "accelerator": "GPU"
  },
  "cells": [
    {
      "cell_type": "code",
      "execution_count": 1,
      "metadata": {
        "colab": {
          "base_uri": "https://localhost:8080/"
        },
        "id": "WPy6anD1BiEn",
        "outputId": "25aa0315-9bf6-4063-aa12-eee6f8d4fdc5"
      },
      "outputs": [
        {
          "output_type": "stream",
          "name": "stdout",
          "text": [
            "Requirement already satisfied: tensorflow-probability in /usr/local/lib/python3.10/dist-packages (0.23.0)\n",
            "Requirement already satisfied: absl-py in /usr/local/lib/python3.10/dist-packages (from tensorflow-probability) (1.4.0)\n",
            "Requirement already satisfied: six>=1.10.0 in /usr/local/lib/python3.10/dist-packages (from tensorflow-probability) (1.16.0)\n",
            "Requirement already satisfied: numpy>=1.13.3 in /usr/local/lib/python3.10/dist-packages (from tensorflow-probability) (1.25.2)\n",
            "Requirement already satisfied: decorator in /usr/local/lib/python3.10/dist-packages (from tensorflow-probability) (4.4.2)\n",
            "Requirement already satisfied: cloudpickle>=1.3 in /usr/local/lib/python3.10/dist-packages (from tensorflow-probability) (2.2.1)\n",
            "Requirement already satisfied: gast>=0.3.2 in /usr/local/lib/python3.10/dist-packages (from tensorflow-probability) (0.5.4)\n",
            "Requirement already satisfied: dm-tree in /usr/local/lib/python3.10/dist-packages (from tensorflow-probability) (0.1.8)\n",
            "Downloading data from https://storage.googleapis.com/tensorflow/tf-keras-datasets/mnist.npz\n",
            "11490434/11490434 [==============================] - 0s 0us/step\n"
          ]
        },
        {
          "output_type": "stream",
          "name": "stderr",
          "text": [
            "/usr/local/lib/python3.10/dist-packages/tensorflow_probability/python/layers/util.py:98: UserWarning: `layer.add_variable` is deprecated and will be removed in a future version. Please use the `layer.add_weight()` method instead.\n",
            "  loc = add_variable_fn(\n",
            "/usr/local/lib/python3.10/dist-packages/tensorflow_probability/python/layers/util.py:108: UserWarning: `layer.add_variable` is deprecated and will be removed in a future version. Please use the `layer.add_weight()` method instead.\n",
            "  untransformed_scale = add_variable_fn(\n",
            "WARNING:tensorflow:5 out of the last 5 calls to <function _BaseOptimizer._update_step_xla at 0x79d39a5d1870> triggered tf.function retracing. Tracing is expensive and the excessive number of tracings could be due to (1) creating @tf.function repeatedly in a loop, (2) passing tensors with different shapes, (3) passing Python objects instead of tensors. For (1), please define your @tf.function outside of the loop. For (2), @tf.function has reduce_retracing=True option that can avoid unnecessary retracing. For (3), please refer to https://www.tensorflow.org/guide/function#controlling_retracing and https://www.tensorflow.org/api_docs/python/tf/function for  more details.\n",
            "WARNING:tensorflow:6 out of the last 6 calls to <function _BaseOptimizer._update_step_xla at 0x79d39a5d1870> triggered tf.function retracing. Tracing is expensive and the excessive number of tracings could be due to (1) creating @tf.function repeatedly in a loop, (2) passing tensors with different shapes, (3) passing Python objects instead of tensors. For (1), please define your @tf.function outside of the loop. For (2), @tf.function has reduce_retracing=True option that can avoid unnecessary retracing. For (3), please refer to https://www.tensorflow.org/guide/function#controlling_retracing and https://www.tensorflow.org/api_docs/python/tf/function for  more details.\n"
          ]
        },
        {
          "output_type": "stream",
          "name": "stdout",
          "text": [
            "Epoch 1/5, Accuracy: 0.8822500109672546\n",
            "Epoch 2/5, Accuracy: 0.9518833160400391\n",
            "Epoch 3/5, Accuracy: 0.9667333364486694\n",
            "Epoch 4/5, Accuracy: 0.9749166369438171\n",
            "Epoch 5/5, Accuracy: 0.9791666865348816\n",
            "Test Loss: [3.5762781e-07 8.4638241e-06 4.9345139e-03 ... 4.7683704e-07 1.6927575e-05\n",
            " 1.0967195e-05], Test Accuracy: 0.9713000059127808\n"
          ]
        }
      ],
      "source": [
        "# Install TensorFlow Probability\n",
        "!pip install tensorflow-probability\n",
        "\n",
        "import tensorflow as tf\n",
        "import tensorflow_probability as tfp\n",
        "tfd = tfp.distributions\n",
        "tfpl = tfp.layers\n",
        "\n",
        "# Load the data\n",
        "(x_train, y_train), (x_test, y_test) = tf.keras.datasets.mnist.load_data()\n",
        "\n",
        "# Preprocess the data\n",
        "x_train = x_train.reshape(-1, 28 * 28).astype('float32') / 255.0\n",
        "x_test = x_test.reshape(-1, 28 * 28).astype('float32') / 255.0\n",
        "y_train = tf.keras.utils.to_categorical(y_train, num_classes=10)\n",
        "y_test = tf.keras.utils.to_categorical(y_test, num_classes=10)\n",
        "\n",
        "# Define the Bayesian neural network model\n",
        "def build_bnn(input_dim, output_dim):\n",
        "    model = tf.keras.Sequential([\n",
        "        tfpl.DenseFlipout(512, activation=tf.nn.relu, input_shape=(input_dim,)),\n",
        "        tfpl.DenseFlipout(256, activation=tf.nn.relu),\n",
        "        tfpl.DenseFlipout(output_dim, activation=None)\n",
        "    ])\n",
        "    return model\n",
        "\n",
        "# Create the Bayesian neural network\n",
        "bnn = build_bnn(28 * 28, 10)\n",
        "\n",
        "# Define the loss function and metrics\n",
        "neg_log_likelihood = lambda y, logits: -tfd.Categorical(logits=logits).log_prob(tf.argmax(y, axis=-1))\n",
        "accuracy = tf.keras.metrics.CategoricalAccuracy()\n",
        "\n",
        "# Train the Bayesian neural network\n",
        "num_epochs = 5\n",
        "batch_size = 128\n",
        "\n",
        "optimizer = tf.keras.optimizers.Adam(learning_rate=0.001)\n",
        "for epoch in range(num_epochs):\n",
        "    for i in range(0, len(x_train), batch_size):\n",
        "        x_batch = x_train[i:i+batch_size]\n",
        "        y_batch = y_train[i:i+batch_size]\n",
        "\n",
        "        with tf.GradientTape() as tape:\n",
        "            logits = bnn(x_batch)\n",
        "            loss = neg_log_likelihood(y_batch, logits)\n",
        "\n",
        "        gradients = tape.gradient(loss, bnn.trainable_variables)\n",
        "        optimizer.apply_gradients(zip(gradients, bnn.trainable_variables))\n",
        "\n",
        "        accuracy.update_state(y_batch, logits)\n",
        "\n",
        "    print(f\"Epoch {epoch+1}/{num_epochs}, Accuracy: {accuracy.result().numpy()}\")\n",
        "    accuracy.reset_states()\n",
        "\n",
        "# Evaluate on the test set\n",
        "logits = bnn(x_test)\n",
        "test_loss = neg_log_likelihood(y_test, logits)\n",
        "test_acc = tf.keras.metrics.CategoricalAccuracy()(y_test, logits)\n",
        "print(f\"Test Loss: {test_loss.numpy()}, Test Accuracy: {test_acc.numpy()}\")"
      ]
    },
    {
      "cell_type": "code",
      "source": [],
      "metadata": {
        "id": "FPAoLtk3Hawh"
      },
      "execution_count": null,
      "outputs": []
    }
  ]
}