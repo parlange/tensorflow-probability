{
 "cells": [
  {
   "cell_type": "code",
   "execution_count": 4,
   "metadata": {
    "id": "0gTa1dvhOEFj"
   },
   "outputs": [
    {
     "ename": "NameError",
     "evalue": "name 'model' is not defined",
     "output_type": "error",
     "traceback": [
      "\u001b[0;31m---------------------------------------------------------------------------\u001b[0m",
      "\u001b[0;31mNameError\u001b[0m                                 Traceback (most recent call last)",
      "Cell \u001b[0;32mIn[4], line 2\u001b[0m\n\u001b[1;32m      1\u001b[0m kernel_divergence_fn \u001b[38;5;241m=\u001b[39m \u001b[38;5;28;01mlambda\u001b[39;00m q, p, _: tfp\u001b[38;5;241m.\u001b[39mdistributions\u001b[38;5;241m.\u001b[39mkl_divergence(q, p) \u001b[38;5;241m/\u001b[39m x_train\u001b[38;5;241m.\u001b[39mshape[\u001b[38;5;241m0\u001b[39m]\n\u001b[0;32m----> 2\u001b[0m \u001b[43mmodel\u001b[49m\u001b[38;5;241m.\u001b[39mcompile(optimizer\u001b[38;5;241m=\u001b[39mtfk\u001b[38;5;241m.\u001b[39moptimizers\u001b[38;5;241m.\u001b[39mAdam(),\n\u001b[1;32m      3\u001b[0m               loss\u001b[38;5;241m=\u001b[39mnegative_log_likelihood,\n\u001b[1;32m      4\u001b[0m               metrics\u001b[38;5;241m=\u001b[39m[tfk\u001b[38;5;241m.\u001b[39mmetrics\u001b[38;5;241m.\u001b[39mCategoricalAccuracy()],\n\u001b[1;32m      5\u001b[0m               experimental_run_tf_function\u001b[38;5;241m=\u001b[39m\u001b[38;5;28;01mFalse\u001b[39;00m)\n\u001b[1;32m      6\u001b[0m model\u001b[38;5;241m.\u001b[39mfit(x_train, y_train,\n\u001b[1;32m      7\u001b[0m           epochs\u001b[38;5;241m=\u001b[39m\u001b[38;5;241m10\u001b[39m,\n\u001b[1;32m      8\u001b[0m           batch_size\u001b[38;5;241m=\u001b[39m\u001b[38;5;241m128\u001b[39m,\n\u001b[1;32m      9\u001b[0m           validation_data\u001b[38;5;241m=\u001b[39m(x_test, y_test),\n\u001b[1;32m     10\u001b[0m           callbacks\u001b[38;5;241m=\u001b[39m[tfpl\u001b[38;5;241m.\u001b[39mKLDivergenceRegularizer(kernel_divergence_fn, weight\u001b[38;5;241m=\u001b[39m\u001b[38;5;241m1.0\u001b[39m)])\n",
      "\u001b[0;31mNameError\u001b[0m: name 'model' is not defined"
     ]
    }
   ],
   "source": [
    "kernel_divergence_fn = lambda q, p, _: tfp.distributions.kl_divergence(q, p) / x_train.shape[0]\n",
    "model.compile(optimizer=tfk.optimizers.Adam(),\n",
    "              loss=negative_log_likelihood,\n",
    "              metrics=[tfk.metrics.CategoricalAccuracy()],\n",
    "              experimental_run_tf_function=False)\n",
    "model.fit(x_train, y_train,\n",
    "          epochs=10,\n",
    "          batch_size=128,\n",
    "          validation_data=(x_test, y_test),\n",
    "          callbacks=[tfpl.KLDivergenceRegularizer(kernel_divergence_fn, weight=1.0)])\n"
   ]
  },
  {
   "cell_type": "code",
   "execution_count": null,
   "metadata": {},
   "outputs": [],
   "source": []
  },
  {
   "cell_type": "code",
   "execution_count": null,
   "metadata": {},
   "outputs": [],
   "source": []
  }
 ],
 "metadata": {
  "accelerator": "GPU",
  "colab": {
   "gpuType": "T4",
   "provenance": []
  },
  "kernelspec": {
   "display_name": "Python 3 (ipykernel)",
   "language": "python",
   "name": "python3"
  },
  "language_info": {
   "codemirror_mode": {
    "name": "ipython",
    "version": 3
   },
   "file_extension": ".py",
   "mimetype": "text/x-python",
   "name": "python",
   "nbconvert_exporter": "python",
   "pygments_lexer": "ipython3",
   "version": "3.10.13"
  }
 },
 "nbformat": 4,
 "nbformat_minor": 4
}
