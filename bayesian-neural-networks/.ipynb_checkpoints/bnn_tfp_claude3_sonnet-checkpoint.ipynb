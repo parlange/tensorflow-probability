{
 "cells": [
  {
   "cell_type": "code",
   "execution_count": 1,
   "metadata": {
    "colab": {
     "base_uri": "https://localhost:8080/"
    },
    "id": "WPy6anD1BiEn",
    "outputId": "25aa0315-9bf6-4063-aa12-eee6f8d4fdc5"
   },
   "outputs": [
    {
     "name": "stdout",
     "output_type": "stream",
     "text": [
      "/bin/bash: /home/parlange/anaconda3/envs/gigalens/lib/libtinfo.so.6: no version information available (required by /bin/bash)\n",
      "Requirement already satisfied: tensorflow-probability in /home/parlange/anaconda3/envs/gigalens/lib/python3.10/site-packages (0.23.0)\n",
      "Requirement already satisfied: absl-py in /home/parlange/anaconda3/envs/gigalens/lib/python3.10/site-packages (from tensorflow-probability) (2.1.0)\n",
      "Requirement already satisfied: six>=1.10.0 in /home/parlange/anaconda3/envs/gigalens/lib/python3.10/site-packages (from tensorflow-probability) (1.16.0)\n",
      "Requirement already satisfied: numpy>=1.13.3 in /home/parlange/.local/lib/python3.10/site-packages (from tensorflow-probability) (1.24.3)\n",
      "Requirement already satisfied: decorator in /home/parlange/.local/lib/python3.10/site-packages (from tensorflow-probability) (5.1.1)\n",
      "Requirement already satisfied: cloudpickle>=1.3 in /home/parlange/anaconda3/envs/gigalens/lib/python3.10/site-packages (from tensorflow-probability) (3.0.0)\n",
      "Requirement already satisfied: gast>=0.3.2 in /home/parlange/.local/lib/python3.10/site-packages (from tensorflow-probability) (0.4.0)\n",
      "Requirement already satisfied: dm-tree in /home/parlange/anaconda3/envs/gigalens/lib/python3.10/site-packages (from tensorflow-probability) (0.1.8)\n"
     ]
    },
    {
     "name": "stderr",
     "output_type": "stream",
     "text": [
      "2024-03-11 23:56:05.595985: I tensorflow/core/util/port.cc:113] oneDNN custom operations are on. You may see slightly different numerical results due to floating-point round-off errors from different computation orders. To turn them off, set the environment variable `TF_ENABLE_ONEDNN_OPTS=0`.\n",
      "2024-03-11 23:56:05.615393: E external/local_xla/xla/stream_executor/cuda/cuda_dnn.cc:9261] Unable to register cuDNN factory: Attempting to register factory for plugin cuDNN when one has already been registered\n",
      "2024-03-11 23:56:05.615411: E external/local_xla/xla/stream_executor/cuda/cuda_fft.cc:607] Unable to register cuFFT factory: Attempting to register factory for plugin cuFFT when one has already been registered\n",
      "2024-03-11 23:56:05.615938: E external/local_xla/xla/stream_executor/cuda/cuda_blas.cc:1515] Unable to register cuBLAS factory: Attempting to register factory for plugin cuBLAS when one has already been registered\n",
      "2024-03-11 23:56:05.619348: I tensorflow/core/platform/cpu_feature_guard.cc:182] This TensorFlow binary is optimized to use available CPU instructions in performance-critical operations.\n",
      "To enable the following instructions: AVX2 AVX_VNNI FMA, in other operations, rebuild TensorFlow with the appropriate compiler flags.\n",
      "2024-03-11 23:56:05.982544: W tensorflow/compiler/tf2tensorrt/utils/py_utils.cc:38] TF-TRT Warning: Could not find TensorRT\n",
      "2024-03-11 23:56:06.851333: I tensorflow/core/common_runtime/gpu/gpu_device.cc:1929] Created device /job:localhost/replica:0/task:0/device:GPU:0 with 22453 MB memory:  -> device: 0, name: NVIDIA GeForce RTX 3090, pci bus id: 0000:01:00.0, compute capability: 8.6\n",
      "2024-03-11 23:56:06.851729: I tensorflow/core/common_runtime/gpu/gpu_device.cc:1929] Created device /job:localhost/replica:0/task:0/device:GPU:1 with 22453 MB memory:  -> device: 1, name: NVIDIA GeForce RTX 3090, pci bus id: 0000:08:00.0, compute capability: 8.6\n",
      "/home/parlange/anaconda3/envs/gigalens/lib/python3.10/site-packages/tensorflow_probability/python/layers/util.py:98: UserWarning: `layer.add_variable` is deprecated and will be removed in a future version. Please use the `layer.add_weight()` method instead.\n",
      "  loc = add_variable_fn(\n",
      "/home/parlange/anaconda3/envs/gigalens/lib/python3.10/site-packages/tensorflow_probability/python/layers/util.py:108: UserWarning: `layer.add_variable` is deprecated and will be removed in a future version. Please use the `layer.add_weight()` method instead.\n",
      "  untransformed_scale = add_variable_fn(\n",
      "2024-03-11 23:56:07.123005: I external/local_tsl/tsl/platform/default/subprocess.cc:304] Start cannot spawn child process: No such file or directory\n",
      "2024-03-11 23:56:07.647927: I external/local_xla/xla/service/service.cc:168] XLA service 0xec17ed0 initialized for platform CUDA (this does not guarantee that XLA will be used). Devices:\n",
      "2024-03-11 23:56:07.647945: I external/local_xla/xla/service/service.cc:176]   StreamExecutor device (0): NVIDIA GeForce RTX 3090, Compute Capability 8.6\n",
      "2024-03-11 23:56:07.647949: I external/local_xla/xla/service/service.cc:176]   StreamExecutor device (1): NVIDIA GeForce RTX 3090, Compute Capability 8.6\n",
      "2024-03-11 23:56:07.650602: I tensorflow/compiler/mlir/tensorflow/utils/dump_mlir_util.cc:269] disabling MLIR crash reproducer, set env var `MLIR_CRASH_REPRODUCER_DIRECTORY` to enable.\n",
      "2024-03-11 23:56:07.677865: I external/local_xla/xla/stream_executor/cuda/cuda_dnn.cc:454] Loaded cuDNN version 8906\n",
      "WARNING: All log messages before absl::InitializeLog() is called are written to STDERR\n",
      "I0000 00:00:1710222967.719135   29072 device_compiler.h:186] Compiled cluster using XLA!  This line is logged at most once for the lifetime of the process.\n"
     ]
    },
    {
     "name": "stdout",
     "output_type": "stream",
     "text": [
      "WARNING:tensorflow:5 out of the last 5 calls to <function _BaseOptimizer._update_step_xla at 0x7fc48c5b9cf0> triggered tf.function retracing. Tracing is expensive and the excessive number of tracings could be due to (1) creating @tf.function repeatedly in a loop, (2) passing tensors with different shapes, (3) passing Python objects instead of tensors. For (1), please define your @tf.function outside of the loop. For (2), @tf.function has reduce_retracing=True option that can avoid unnecessary retracing. For (3), please refer to https://www.tensorflow.org/guide/function#controlling_retracing and https://www.tensorflow.org/api_docs/python/tf/function for  more details.\n",
      "WARNING:tensorflow:6 out of the last 6 calls to <function _BaseOptimizer._update_step_xla at 0x7fc48c5b9cf0> triggered tf.function retracing. Tracing is expensive and the excessive number of tracings could be due to (1) creating @tf.function repeatedly in a loop, (2) passing tensors with different shapes, (3) passing Python objects instead of tensors. For (1), please define your @tf.function outside of the loop. For (2), @tf.function has reduce_retracing=True option that can avoid unnecessary retracing. For (3), please refer to https://www.tensorflow.org/guide/function#controlling_retracing and https://www.tensorflow.org/api_docs/python/tf/function for  more details.\n",
      "Epoch 1/10, Accuracy: 0.883816659450531, Duration: 60.24 seconds\n",
      "Epoch 2/10, Accuracy: 0.9522166848182678, Duration: 148.11 seconds\n",
      "Epoch 3/10, Accuracy: 0.9661999940872192, Duration: 239.81 seconds\n",
      "Epoch 4/10, Accuracy: 0.9749333262443542, Duration: 325.90 seconds\n",
      "Epoch 5/10, Accuracy: 0.9809333086013794, Duration: 414.37 seconds\n",
      "Epoch 6/10, Accuracy: 0.9832666516304016, Duration: 515.43 seconds\n",
      "Epoch 7/10, Accuracy: 0.9859499931335449, Duration: 602.81 seconds\n",
      "Epoch 8/10, Accuracy: 0.9887499809265137, Duration: 698.98 seconds\n",
      "Epoch 9/10, Accuracy: 0.9894833564758301, Duration: 775.13 seconds\n",
      "Epoch 10/10, Accuracy: 0.9917500019073486, Duration: 855.79 seconds\n",
      "Total training time: 4636.57 seconds\n",
      "Test Loss: [0.0000000e+00 0.0000000e+00 7.3072624e-05 ... 0.0000000e+00 0.0000000e+00\n",
      " 0.0000000e+00], Test Accuracy: 0.9771999716758728\n"
     ]
    }
   ],
   "source": [
    "# Install TensorFlow Probability\n",
    "!pip install tensorflow-probability\n",
    "\n",
    "import time\n",
    "import numpy as np\n",
    "import tensorflow as tf\n",
    "import tensorflow_probability as tfp\n",
    "tfd = tfp.distributions\n",
    "tfpl = tfp.layers\n",
    "\n",
    "# Load the data\n",
    "(x_train, y_train), (x_test, y_test) = tf.keras.datasets.mnist.load_data()\n",
    "\n",
    "# Preprocess the data\n",
    "x_train = x_train.reshape(-1, 28 * 28).astype('float32') / 255.0\n",
    "x_test = x_test.reshape(-1, 28 * 28).astype('float32') / 255.0\n",
    "y_train = tf.keras.utils.to_categorical(y_train, num_classes=10)\n",
    "y_test = tf.keras.utils.to_categorical(y_test, num_classes=10)\n",
    "\n",
    "# Define the Bayesian neural network model\n",
    "def build_bnn(input_dim, output_dim):\n",
    "    model = tf.keras.Sequential([\n",
    "        tfpl.DenseFlipout(512, activation=tf.nn.relu, input_shape=(input_dim,)),\n",
    "        tfpl.DenseFlipout(256, activation=tf.nn.relu),\n",
    "        tfpl.DenseFlipout(output_dim, activation=None)\n",
    "    ])\n",
    "    return model\n",
    "\n",
    "# Create the Bayesian neural network\n",
    "bnn = build_bnn(28 * 28, 10)\n",
    "\n",
    "# Define the loss function and metrics\n",
    "neg_log_likelihood = lambda y, logits: -tfd.Categorical(logits=logits).log_prob(tf.argmax(y, axis=-1))\n",
    "accuracy = tf.keras.metrics.CategoricalAccuracy()\n",
    "\n",
    "# Train the Bayesian neural network\n",
    "num_epochs = 10\n",
    "batch_size = 128\n",
    "\n",
    "optimizer = tf.keras.optimizers.Adam(learning_rate=0.001)\n",
    "start_time = time.time()\n",
    "for epoch in range(num_epochs):\n",
    "    epoch_start_time = time.time()\n",
    "    for i in range(0, len(x_train), batch_size):\n",
    "        x_batch = x_train[i:i+batch_size]\n",
    "        y_batch = y_train[i:i+batch_size]\n",
    "\n",
    "        with tf.GradientTape() as tape:\n",
    "            logits = bnn(x_batch)\n",
    "            loss = neg_log_likelihood(y_batch, logits)\n",
    "\n",
    "        gradients = tape.gradient(loss, bnn.trainable_variables)\n",
    "        optimizer.apply_gradients(zip(gradients, bnn.trainable_variables))\n",
    "\n",
    "        accuracy.update_state(y_batch, logits)\n",
    "\n",
    "    epoch_duration = time.time() - epoch_start_time\n",
    "    print(f\"Epoch {epoch+1}/{num_epochs}, Accuracy: {accuracy.result().numpy()}, Duration: {epoch_duration:.2f} seconds\")\n",
    "    accuracy.reset_states()\n",
    "\n",
    "total_training_time = time.time() - start_time\n",
    "print(f\"Total training time: {total_training_time:.2f} seconds\")\n",
    "\n",
    "# Evaluate on the test set\n",
    "logits = bnn(x_test)\n",
    "test_loss = neg_log_likelihood(y_test, logits)\n",
    "test_acc = tf.keras.metrics.CategoricalAccuracy()(y_test, logits)\n",
    "print(f\"Test Loss: {test_loss.numpy()}, Test Accuracy: {test_acc.numpy()}\")"
   ]
  }
 ],
 "metadata": {
  "accelerator": "GPU",
  "colab": {
   "gpuType": "T4",
   "provenance": []
  },
  "kernelspec": {
   "display_name": "gigalens",
   "language": "python",
   "name": "gigalens"
  },
  "language_info": {
   "codemirror_mode": {
    "name": "ipython",
    "version": 3
   },
   "file_extension": ".py",
   "mimetype": "text/x-python",
   "name": "python",
   "nbconvert_exporter": "python",
   "pygments_lexer": "ipython3",
   "version": "3.10.13"
  }
 },
 "nbformat": 4,
 "nbformat_minor": 4
}
