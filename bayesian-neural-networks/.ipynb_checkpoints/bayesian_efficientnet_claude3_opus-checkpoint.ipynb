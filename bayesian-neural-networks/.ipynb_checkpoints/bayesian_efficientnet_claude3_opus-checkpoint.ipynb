{
  "nbformat": 4,
  "nbformat_minor": 0,
  "metadata": {
    "colab": {
      "provenance": []
    },
    "kernelspec": {
      "name": "python3",
      "display_name": "Python 3"
    },
    "language_info": {
      "name": "python"
    },
    "accelerator": "TPU"
  },
  "cells": [
    {
      "cell_type": "code",
      "execution_count": null,
      "metadata": {
        "id": "eai_OSf8MDHW"
      },
      "outputs": [],
      "source": [
        "import tensorflow as tf\n",
        "import tensorflow_probability as tfp\n",
        "import efficientnet.tfkeras as efn\n",
        "\n",
        "tfd = tfp.distributions\n",
        "tfpl = tfp.layers\n",
        "\n",
        "# Load and preprocess the data\n",
        "(x_train, y_train), (x_test, y_test) = tf.keras.datasets.cifar10.load_data()\n",
        "x_train = x_train.astype('float32') / 255.0\n",
        "x_test = x_test.astype('float32') / 255.0\n",
        "y_train = tf.keras.utils.to_categorical(y_train, num_classes=10)\n",
        "y_test = tf.keras.utils.to_categorical(y_test, num_classes=10)\n",
        "\n",
        "# Define the Bayesian EfficientNet model\n",
        "def build_bayesian_efficientnet(input_shape, output_dim, efficientnet_version='B0'):\n",
        "    inputs = tf.keras.Input(shape=input_shape)\n",
        "    efficientnet = getattr(efn, f'EfficientNet{efficientnet_version}')(\n",
        "        include_top=False,\n",
        "        weights='imagenet',\n",
        "        input_tensor=inputs\n",
        "    )\n",
        "\n",
        "    x = efficientnet.output\n",
        "    x = tf.keras.layers.GlobalAveragePooling2D()(x)\n",
        "    x = tfpl.DenseFlipout(512, activation=tf.nn.relu)(x)\n",
        "    outputs = tfpl.DenseFlipout(output_dim)(x)\n",
        "\n",
        "    model = tf.keras.Model(inputs=inputs, outputs=outputs)\n",
        "    return model\n",
        "\n",
        "# Create the Bayesian EfficientNet\n",
        "bayesian_efficientnet = build_bayesian_efficientnet((32, 32, 3), 10, efficientnet_version='B0')\n",
        "\n",
        "# Define the loss function and metrics\n",
        "def negative_log_likelihood(y_true, y_pred):\n",
        "    return -tf.reduce_mean(tf.reduce_sum(y_true * tf.math.log(y_pred), axis=-1))\n",
        "\n",
        "def accuracy(y_true, y_pred):\n",
        "    return tf.reduce_mean(tf.cast(tf.equal(tf.argmax(y_true, axis=-1), tf.argmax(y_pred, axis=-1)), tf.float32))\n",
        "\n",
        "# Compile the model\n",
        "bayesian_efficientnet.compile(optimizer=tf.keras.optimizers.Adam(learning_rate=0.001),\n",
        "                              loss=negative_log_likelihood,\n",
        "                              metrics=[accuracy])\n",
        "\n",
        "# Train the Bayesian EfficientNet\n",
        "bayesian_efficientnet.fit(x_train, y_train, batch_size=128, epochs=5, validation_data=(x_test, y_test))\n",
        "\n",
        "# Evaluate the model on the test set\n",
        "test_loss, test_acc = bayesian_efficientnet.evaluate(x_test, y_test)\n",
        "print(f\"Test Loss: {test_loss:.4f}, Test Accuracy: {test_acc:.4f}\")"
      ]
    },
    {
      "cell_type": "code",
      "source": [],
      "metadata": {
        "id": "pG_G7FQVU7B5"
      },
      "execution_count": null,
      "outputs": []
    }
  ]
}